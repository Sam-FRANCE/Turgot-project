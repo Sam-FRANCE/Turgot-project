{
  "nbformat": 4,
  "nbformat_minor": 0,
  "metadata": {
    "colab": {
      "name": "Untitled0.ipynb",
      "provenance": [],
      "toc_visible": true,
      "authorship_tag": "ABX9TyNuHHhamyasuBDoH5WFR9Lv",
      "include_colab_link": true
    },
    "kernelspec": {
      "name": "python3",
      "display_name": "Python 3"
    },
    "language_info": {
      "name": "python"
    }
  },
  "cells": [
    {
      "cell_type": "markdown",
      "metadata": {
        "id": "view-in-github",
        "colab_type": "text"
      },
      "source": [
        "<a href=\"https://colab.research.google.com/github/Sam-FRANCE/Turgot-project/blob/main/Untitled0.ipynb\" target=\"_parent\"><img src=\"https://colab.research.google.com/assets/colab-badge.svg\" alt=\"Open In Colab\"/></a>"
      ]
    },
    {
      "cell_type": "code",
      "metadata": {
        "colab": {
          "base_uri": "https://localhost:8080/"
        },
        "id": "LFR-uw2KHZ2D",
        "outputId": "e1a6c67d-6936-4c4d-efff-6a9fc0c943a4"
      },
      "source": [
        "x=9*1.086\n",
        "print(x)"
      ],
      "execution_count": 5,
      "outputs": [
        {
          "output_type": "stream",
          "name": "stdout",
          "text": [
            "9.774000000000001\n"
          ]
        }
      ]
    },
    {
      "cell_type": "markdown",
      "metadata": {
        "id": "QXsA9bPoHjOi"
      },
      "source": [
        "# **Nouvelle section** \n",
        "Voici une nouvelle page, où vous trouverez la totalité des équations nécésitant l'intervention de l'état\n",
        "$\\pi \\times 8$"
      ]
    },
    {
      "cell_type": "markdown",
      "metadata": {
        "id": "8KFVi4jZHbN7"
      },
      "source": [
        "# Nouvelle section"
      ]
    }
  ]
}